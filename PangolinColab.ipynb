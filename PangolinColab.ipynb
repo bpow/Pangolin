{
  "nbformat": 4,
  "nbformat_minor": 0,
  "metadata": {
    "colab": {
      "name": "PangolinColab.ipynb",
      "provenance": [],
      "collapsed_sections": []
    },
    "kernelspec": {
      "name": "python3",
      "display_name": "Python 3"
    },
    "language_info": {
      "name": "python"
    },
    "accelerator": "GPU"
  },
  "cells": [
    {
      "cell_type": "markdown",
      "metadata": {
        "id": "8ZvdwtZdbwhr"
      },
      "source": [
        "# Running Pangolin on Colab"
      ]
    },
    {
      "cell_type": "markdown",
      "metadata": {
        "id": "zobfNkznbBul"
      },
      "source": [
        "0. By default, Colab will not use a GPU. To use a GPU, choose: Runtime -> Change runtime type -> GPU.  "
      ]
    },
    {
      "cell_type": "markdown",
      "metadata": {
        "id": "N4mkOLJmcBoK"
      },
      "source": [
        "1. Install Pangolin and dependencies\n"
      ]
    },
    {
      "cell_type": "code",
      "metadata": {
        "id": "NpEQ3rtI9BI6"
      },
      "source": [
        "!pip install pyvcf gffutils pyfastx\n",
        "!git clone https://github.com/tkzeng/Pangolin.git\n",
        "%cd Pangolin\n",
        "!pip install .\n",
        "%cd /content"
      ],
      "execution_count": null,
      "outputs": []
    },
    {
      "cell_type": "markdown",
      "metadata": {
        "id": "klBpVcuDcH9s"
      },
      "source": [
        "2. Upload input files. For details on ways to do this (for example, through Google Drive), see: https://colab.research.google.com/notebooks/io.ipynb\n"
      ]
    },
    {
      "cell_type": "code",
      "metadata": {
        "id": "fbyc3ygj9Fpr"
      },
      "source": [
        "# GRCh37 files\n",
        "!wget ftp://ftp.ebi.ac.uk/pub/databases/gencode/Gencode_human/release_30/GRCh37_mapping/GRCh37.primary_assembly.genome.fa.gz\n",
        "!wget https://www.dropbox.com/sh/6zo0aegoalvgd9f/AAA9Q90Pi1UqSzX99R_NM803a/gencode.v38lift37.annotation.db\n",
        "\n",
        "# GRCh38 files\n",
        "#!wget https://ftp.ebi.ac.uk/pub/databases/gencode/Gencode_human/release_38/GRCh38.primary_assembly.genome.fa.gz\n",
        "#!wget https://www.dropbox.com/sh/6zo0aegoalvgd9f/AADOhGYJo8tbUhpscp3wSFj6a/gencode.v38.annotation.db"
      ],
      "execution_count": null,
      "outputs": []
    },
    {
      "cell_type": "markdown",
      "metadata": {
        "id": "UeR2dcKZcTOD"
      },
      "source": [
        "3. Run Pangolin"
      ]
    },
    {
      "cell_type": "code",
      "metadata": {
        "id": "mJhWjTEv_Ktv"
      },
      "source": [
        "!pangolin Pangolin/examples/brca.vcf GRCh37.primary_assembly.genome.fa.gz gencode.v38lift37.annotation.db brca.pangolin"
      ],
      "execution_count": null,
      "outputs": []
    },
    {
      "cell_type": "code",
      "metadata": {
        "id": "wfxo0oT8_dBL"
      },
      "source": [
        "# View the last few lines of the output VCF\n",
        "!tail brca.pangolin.vcf"
      ],
      "execution_count": null,
      "outputs": []
    },
    {
      "cell_type": "markdown",
      "metadata": {
        "id": "WywDuD8Nchc9"
      },
      "source": [
        "4. Download the VCF to your local computer"
      ]
    },
    {
      "cell_type": "code",
      "metadata": {
        "id": "jeAy8PRjBSRp"
      },
      "source": [
        "from google.colab import files\n",
        "files.download(\"brca.pangolin.vcf\") "
      ],
      "execution_count": null,
      "outputs": []
    }
  ]
}
